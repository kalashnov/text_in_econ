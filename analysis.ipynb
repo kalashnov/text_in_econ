{
 "cells": [
  {
   "cell_type": "markdown",
   "source": [
    "## Preparing the environment:"
   ],
   "metadata": {
    "collapsed": false
   },
   "id": "bb30d945248a11fb"
  },
  {
   "cell_type": "markdown",
   "source": [
    "1) Download the dataset of the [paper](https://www.aeaweb.org/articles?id=10.1257/aer.20171764) and unpack it as `/data/116200-V1`\n",
    "2) Setup the python environment:\n"
   ],
   "metadata": {
    "collapsed": false
   },
   "id": "b000eec32a16b75d"
  },
  {
   "cell_type": "code",
   "execution_count": null,
   "outputs": [],
   "source": [
    "!pip install -r requirements.txt"
   ],
   "metadata": {
    "collapsed": false
   },
   "id": "2d7c8dd162b9c2fd"
  },
  {
   "cell_type": "markdown",
   "source": [
    "3) Get an OpenAI API key and paste it below. Consult Santiago Cantillo-Cleves slides:"
   ],
   "metadata": {
    "collapsed": false
   },
   "id": "3f7f5be6dd7ae691"
  },
  {
   "cell_type": "code",
   "execution_count": 79,
   "outputs": [],
   "source": [
    "import os \n",
    "openai_api_key = 'sk-...'\n",
    "os.environ['OPENAI_API_KEY'] = openai_api_key"
   ],
   "metadata": {
    "collapsed": false,
    "ExecuteTime": {
     "end_time": "2025-04-04T20:31:28.815913Z",
     "start_time": "2025-04-04T20:31:28.810642Z"
    }
   },
   "id": "abf85aac5ed2fe6a"
  },
  {
   "cell_type": "markdown",
   "source": [
    "## Preparing the data and training the model"
   ],
   "metadata": {
    "collapsed": false
   },
   "id": "e00fe0568d478b5"
  },
  {
   "cell_type": "markdown",
   "source": [
    "1) Run the `prepare_data.py`. This creates data files and sends them to OpenAI. You can dig into the file to understand how it works"
   ],
   "metadata": {
    "collapsed": false
   },
   "id": "c454bef7dbd2004c"
  },
  {
   "cell_type": "code",
   "execution_count": null,
   "outputs": [],
   "source": [
    "!python prepare_data.py"
   ],
   "metadata": {
    "collapsed": false
   },
   "id": "initial_id"
  },
  {
   "cell_type": "markdown",
   "source": [
    "2) Run the `train.py` script. This will train the model. After the training is done you would recieve an email with it's id. This will take ~15 minutes, you can close the laptop and go have a coffee. Consult OpenAI documentation for finetuning on how to check status if you need."
   ],
   "metadata": {
    "collapsed": false
   },
   "id": "8233f9bd4daa54a2"
  },
  {
   "cell_type": "code",
   "execution_count": null,
   "outputs": [],
   "source": [
    "!python train.py"
   ],
   "metadata": {
    "collapsed": false
   },
   "id": "d873e16984dac9ee"
  },
  {
   "cell_type": "markdown",
   "source": [
    "3) Run the 'predict.py' script. This will generate the predictions and save them to the `data/train` folder. You need to pass the model id you received in the email. Also, the predict scipt is done in a very suboptimal way. You need to consult Santiago Cantillo-Cleves slides for a better way to do it in batches. This script can run into API rate limit for a day and also works slow"
   ],
   "metadata": {
    "collapsed": false
   },
   "id": "5edccddf5c2b8086"
  },
  {
   "cell_type": "code",
   "execution_count": null,
   "outputs": [],
   "source": [
    "!python predict.py --model_id <model_id>"
   ],
   "metadata": {
    "collapsed": false
   },
   "id": "71284b4f18f1360"
  },
  {
   "cell_type": "markdown",
   "source": [
    "## Analysis of the data"
   ],
   "metadata": {
    "collapsed": false
   },
   "id": "83768da1c43b8b71"
  },
  {
   "cell_type": "code",
   "execution_count": null,
   "outputs": [],
   "source": [
    "import pandas as pd\n",
    "import numpy as np"
   ],
   "metadata": {
    "collapsed": false
   },
   "id": "abb0abf27c6bfbe8"
  },
  {
   "cell_type": "code",
   "execution_count": 66,
   "outputs": [],
   "source": [
    "data = pd.read_json('data/train/val_predictions.json')"
   ],
   "metadata": {
    "collapsed": false,
    "ExecuteTime": {
     "end_time": "2025-04-04T16:18:51.508207Z",
     "start_time": "2025-04-04T16:18:51.503803Z"
    }
   },
   "id": "beb5d3112ca4b3f"
  },
  {
   "cell_type": "code",
   "execution_count": 68,
   "outputs": [
    {
     "data": {
      "text/plain": "                                              Advice  \\\n0  Advice: It is equally likely that the company ...   \n1  Advice: Make sure you offer the least amount y...   \n2  Advice: When the spread was large between the ...   \n3         Advice: Buy company B profit will be 180 -   \n4  Advice: I would be willing to pay $20. In my o...   \n\n                                          Prediction      Treatment  \\\n0  {'Prob': 1.0, ' probabil': 0.0, ' Prob': 0.0, ...  Probabilistic   \n1  {'Det': 1.0, 'Determ': 0.0, ' Det': 0.0, 'Den'...  Deterministic   \n2  {'Prob': 1.0, ' probabil': 0.0, ' Prob': 0.0, ...  Probabilistic   \n3  {'Det': 0.999, ' Det': 0.0, 'Profit': 0.0, 'De...  Deterministic   \n4  {'Prob': 1.0, ' Prob': 0.0, ' probabil': 0.0, ...  Probabilistic   \n\n  best_prediction  absolute_prob   prob  correct  Advice_length  \n0            Prob          1.000  1.000     True            448  \n1             Det          1.000  0.000     True             84  \n2            Prob          1.000  1.000     True            289  \n3             Det          0.999  0.001     True             42  \n4            Prob          1.000  1.000     True            172  ",
      "text/html": "<div>\n<style scoped>\n    .dataframe tbody tr th:only-of-type {\n        vertical-align: middle;\n    }\n\n    .dataframe tbody tr th {\n        vertical-align: top;\n    }\n\n    .dataframe thead th {\n        text-align: right;\n    }\n</style>\n<table border=\"1\" class=\"dataframe\">\n  <thead>\n    <tr style=\"text-align: right;\">\n      <th></th>\n      <th>Advice</th>\n      <th>Prediction</th>\n      <th>Treatment</th>\n      <th>best_prediction</th>\n      <th>absolute_prob</th>\n      <th>prob</th>\n      <th>correct</th>\n      <th>Advice_length</th>\n    </tr>\n  </thead>\n  <tbody>\n    <tr>\n      <th>0</th>\n      <td>Advice: It is equally likely that the company ...</td>\n      <td>{'Prob': 1.0, ' probabil': 0.0, ' Prob': 0.0, ...</td>\n      <td>Probabilistic</td>\n      <td>Prob</td>\n      <td>1.000</td>\n      <td>1.000</td>\n      <td>True</td>\n      <td>448</td>\n    </tr>\n    <tr>\n      <th>1</th>\n      <td>Advice: Make sure you offer the least amount y...</td>\n      <td>{'Det': 1.0, 'Determ': 0.0, ' Det': 0.0, 'Den'...</td>\n      <td>Deterministic</td>\n      <td>Det</td>\n      <td>1.000</td>\n      <td>0.000</td>\n      <td>True</td>\n      <td>84</td>\n    </tr>\n    <tr>\n      <th>2</th>\n      <td>Advice: When the spread was large between the ...</td>\n      <td>{'Prob': 1.0, ' probabil': 0.0, ' Prob': 0.0, ...</td>\n      <td>Probabilistic</td>\n      <td>Prob</td>\n      <td>1.000</td>\n      <td>1.000</td>\n      <td>True</td>\n      <td>289</td>\n    </tr>\n    <tr>\n      <th>3</th>\n      <td>Advice: Buy company B profit will be 180 -</td>\n      <td>{'Det': 0.999, ' Det': 0.0, 'Profit': 0.0, 'De...</td>\n      <td>Deterministic</td>\n      <td>Det</td>\n      <td>0.999</td>\n      <td>0.001</td>\n      <td>True</td>\n      <td>42</td>\n    </tr>\n    <tr>\n      <th>4</th>\n      <td>Advice: I would be willing to pay $20. In my o...</td>\n      <td>{'Prob': 1.0, ' Prob': 0.0, ' probabil': 0.0, ...</td>\n      <td>Probabilistic</td>\n      <td>Prob</td>\n      <td>1.000</td>\n      <td>1.000</td>\n      <td>True</td>\n      <td>172</td>\n    </tr>\n  </tbody>\n</table>\n</div>"
     },
     "execution_count": 68,
     "metadata": {},
     "output_type": "execute_result"
    }
   ],
   "source": [
    "data['best_prediction'] = data['Prediction'].apply(lambda x: sorted(x.keys(), key=lambda y: x[y], reverse=True)[0])\n",
    "data['absolute_prob'] = data['Prediction'].apply(lambda x: next(iter(x.values())))\n",
    "data['prob'] = data['absolute_prob'] + (1 - 2 * data['absolute_prob']) * (data['best_prediction'].str[0:3] == 'Det')\n",
    "data['correct'] = data['best_prediction'].str[0:3] == data['Treatment'].str[0:3]\n",
    "data['Advice_length'] = data['Advice'].str.len()\n",
    "data.head()"
   ],
   "metadata": {
    "collapsed": false,
    "ExecuteTime": {
     "end_time": "2025-04-04T16:18:56.311226Z",
     "start_time": "2025-04-04T16:18:56.298573Z"
    }
   },
   "id": "7cea17e1d278c394"
  },
  {
   "cell_type": "code",
   "execution_count": 61,
   "outputs": [
    {
     "data": {
      "text/plain": "\"Advice: No advice, no idea what I'm doing. -\""
     },
     "execution_count": 61,
     "metadata": {},
     "output_type": "execute_result"
    }
   ],
   "source": [
    "data.loc[14, 'Advice']"
   ],
   "metadata": {
    "collapsed": false,
    "ExecuteTime": {
     "end_time": "2025-04-04T16:16:45.038712Z",
     "start_time": "2025-04-04T16:16:45.035418Z"
    }
   },
   "id": "a17b0b8d0769f26a"
  },
  {
   "cell_type": "code",
   "execution_count": 62,
   "outputs": [
    {
     "data": {
      "text/plain": "\"Advice: I would always choose the lowest price because you don't want to overpay. -\""
     },
     "execution_count": 62,
     "metadata": {},
     "output_type": "execute_result"
    }
   ],
   "source": [
    "data.loc[60, 'Advice']"
   ],
   "metadata": {
    "collapsed": false,
    "ExecuteTime": {
     "end_time": "2025-04-04T16:16:45.564984Z",
     "start_time": "2025-04-04T16:16:45.558067Z"
    }
   },
   "id": "6d26d723cfde563"
  },
  {
   "cell_type": "code",
   "execution_count": 69,
   "outputs": [
    {
     "data": {
      "text/plain": "np.float64(0.84)"
     },
     "execution_count": 69,
     "metadata": {},
     "output_type": "execute_result"
    }
   ],
   "source": [
    "np.mean(data['correct'])"
   ],
   "metadata": {
    "collapsed": false,
    "ExecuteTime": {
     "end_time": "2025-04-04T16:19:06.033707Z",
     "start_time": "2025-04-04T16:19:06.026749Z"
    }
   },
   "id": "4da5b7cb806721da"
  },
  {
   "cell_type": "code",
   "execution_count": 70,
   "outputs": [
    {
     "data": {
      "text/plain": "<Axes: >"
     },
     "execution_count": 70,
     "metadata": {},
     "output_type": "execute_result"
    },
    {
     "data": {
      "text/plain": "<Figure size 640x480 with 1 Axes>",
      "image/png": "[encoded data removed]"
     },
     "metadata": {},
     "output_type": "display_data"
    }
   ],
   "source": [
    "data['prob'].hist()"
   ],
   "metadata": {
    "collapsed": false,
    "ExecuteTime": {
     "end_time": "2025-04-04T16:19:06.873572Z",
     "start_time": "2025-04-04T16:19:06.825592Z"
    }
   },
   "id": "dc83d4145c167e19"
  },
  {
   "cell_type": "code",
   "execution_count": 77,
   "outputs": [
    {
     "name": "stdout",
     "output_type": "stream",
     "text": [
      "\\begin{tabular}{lr}\n",
      "\\toprule\n",
      " & Advice_length \\\\\n",
      "Treatment &  \\\\\n",
      "\\midrule\n",
      "Deterministic & 168.216216 \\\\\n",
      "Probabilistic & 256.315789 \\\\\n",
      "\\bottomrule\n",
      "\\end{tabular}\n"
     ]
    }
   ],
   "source": [
    "print(data.groupby('Treatment')['Advice_length'].mean().to_latex())"
   ],
   "metadata": {
    "collapsed": false,
    "ExecuteTime": {
     "end_time": "2025-04-04T16:20:02.199151Z",
     "start_time": "2025-04-04T16:20:02.195028Z"
    }
   },
   "id": "774e4f9841e2b3e0"
  }
 ],
 "metadata": {
  "kernelspec": {
   "display_name": "Python 3",
   "language": "python",
   "name": "python3"
  },
  "language_info": {
   "codemirror_mode": {
    "name": "ipython",
    "version": 2
   },
   "file_extension": ".py",
   "mimetype": "text/x-python",
   "name": "python",
   "nbconvert_exporter": "python",
   "pygments_lexer": "ipython2",
   "version": "2.7.6"
  }
 },
 "nbformat": 4,
 "nbformat_minor": 5
}
